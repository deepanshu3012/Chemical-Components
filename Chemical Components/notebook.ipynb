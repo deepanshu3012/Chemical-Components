{
 "cells": [
  {
   "cell_type": "markdown",
   "metadata": {
    "dc": {
     "key": "4"
    },
    "deletable": false,
    "editable": false,
    "run_control": {
     "frozen": true
    },
    "tags": [
     "context"
    ]
   },
   "source": [
    "## 1. Cosmetics, chemicals... it's complicated\n",
    "<p>Whenever I want to try a new cosmetic item, it's so difficult to choose. It's actually more than difficult. It's sometimes scary because new items that I've never tried end up giving me skin trouble. We know the information we need is on the back of each product, but it's really hard to interpret those ingredient lists unless you're a chemist. You may be able to relate to this situation.</p>\n",
    "<p><img src=\"https://assets.datacamp.com/production/project_695/img/image_1.png\" style=\"width:600px;height:400px;\"></p>\n",
    "<p>So instead of buying and hoping for the best, why don't we use data science to help us predict which products may be good fits for us? In this notebook, we are going to create a content-based recommendation system where the 'content' will be the chemical components of cosmetics. Specifically, we will process ingredient lists for 1472 cosmetics on Sephora via <a href=\"https://en.wikipedia.org/wiki/Word_embedding\">word embedding</a>, then visualize ingredient similarity using a machine learning method called t-SNE and an interactive visualization library called Bokeh. Let's inspect our data first.</p>"
   ]
  },
  {
   "cell_type": "code",
   "execution_count": 9,
   "metadata": {
    "dc": {
     "key": "4"
    },
    "tags": [
     "sample_code"
    ]
   },
   "outputs": [
    {
     "name": "stdout",
     "output_type": "stream",
     "text": [
      "['Moisturizer' 'Cleanser' 'Treatment' 'Face Mask' 'Eye cream'\n",
      " 'Sun protect']\n"
     ]
    }
   ],
   "source": [
    "# Import libraries\n",
    "# ... YOUR CODE FOR TASK 1 ...\n",
    "import pandas as pd\n",
    "import numpy as np\n",
    "from sklearn.manifold import TSNE\n",
    "\n",
    "# Load the data\n",
    "df = pd.read_csv('datasets/cosmetics.csv')\n",
    "\n",
    "# Check the first five rows \n",
    "# ... YOUR CODE FOR TASK 1 ...\n",
    "df.head()\n",
    "\n",
    "# Inspect the types of products\n",
    "# ... YOUR CODE FOR TASK 1 ...\n",
    "\n",
    "print(df['Label'].unique())\n",
    "\n",
    "\n"
   ]
  },
  {
   "cell_type": "markdown",
   "metadata": {
    "dc": {
     "key": "12"
    },
    "deletable": false,
    "editable": false,
    "run_control": {
     "frozen": true
    },
    "tags": [
     "context"
    ]
   },
   "source": [
    "## 2. Focus on one product category and one skin type\n",
    "<p>There are six categories of product in our data (<strong><em>moisturizers, cleansers, face masks, eye creams</em></strong>, and <strong><em>sun protection</em></strong>) and there are five different skin types (<strong><em>combination, dry, normal, oily</em></strong> and <strong><em>sensitive</em></strong>). Because individuals have different product needs as well as different skin types, let's set up our workflow so its outputs (a t-SNE model and a visualization of that model) can be customized. For the example in this notebook, let's focus in on moisturizers for those with dry skin by filtering the data accordingly.</p>"
   ]
  },
  {
   "cell_type": "code",
   "execution_count": 10,
   "metadata": {
    "dc": {
     "key": "12"
    },
    "tags": [
     "sample_code"
    ]
   },
   "outputs": [
    {
     "data": {
      "text/plain": [
       "190"
      ]
     },
     "execution_count": 10,
     "metadata": {},
     "output_type": "execute_result"
    }
   ],
   "source": [
    "# Filter for moisturizers\n",
    "moisturizers = df[df['Label'] == 'Moisturizer']\n",
    "\n",
    "# Filter for dry skin as well\n",
    "moisturizers_dry = moisturizers[moisturizers['Dry']==1]\n",
    "\n",
    "# Reset index\n",
    "moisturizers_dry = moisturizers_dry.reset_index(drop=True)\n",
    "len(moisturizers_dry)\n"
   ]
  },
  {
   "cell_type": "markdown",
   "metadata": {
    "dc": {
     "key": "19"
    },
    "deletable": false,
    "editable": false,
    "run_control": {
     "frozen": true
    },
    "tags": [
     "context"
    ]
   },
   "source": [
    "## 3. Tokenizing the ingredients\n",
    "<p>To get to our end goal of comparing ingredients in each product, we first need to do some preprocessing tasks and bookkeeping of the actual words in each product's ingredients list. The first step will be tokenizing the list of ingredients in <code>Ingredients</code> column. After splitting them into tokens, we'll make a binary bag of words. Then we will create a dictionary with the tokens, <code>ingredient_idx</code>, which will have the following format:</p>\n",
    "<p>{ <strong><em>\"ingredient\"</em></strong>: index value, … }</p>"
   ]
  },
  {
   "cell_type": "code",
   "execution_count": 11,
   "metadata": {
    "dc": {
     "key": "19"
    },
    "tags": [
     "sample_code"
    ]
   },
   "outputs": [
    {
     "name": "stdout",
     "output_type": "stream",
     "text": [
      "The index for decyl oleate is 25\n"
     ]
    }
   ],
   "source": [
    "# Initialize dictionary, list, and initial index\n",
    "ingredient_idx = {}\n",
    "corpus = []\n",
    "idx = 0\n",
    "\n",
    "# For loop for tokenization\n",
    "for i in range(len(moisturizers_dry)):    \n",
    "    ingredients = moisturizers_dry['Ingredients'][i]\n",
    "    ingredients_lower = ingredients.lower()\n",
    "    tokens = ingredients_lower.split(', ')\n",
    "    corpus.append(tokens)\n",
    "    for ingredient in tokens:\n",
    "        if ingredient not in ingredient_idx:\n",
    "            ingredient_idx[ingredient] = idx\n",
    "            idx += 1\n",
    "            \n",
    "# Check the result \n",
    "print(\"The index for decyl oleate is\", ingredient_idx.get('decyl oleate', \"not found\"))\n"
   ]
  },
  {
   "cell_type": "markdown",
   "metadata": {
    "dc": {
     "key": "26"
    },
    "deletable": false,
    "editable": false,
    "run_control": {
     "frozen": true
    },
    "tags": [
     "context"
    ]
   },
   "source": [
    "## 4. Initializing a document-term matrix (DTM)\n",
    "<p>The next step is making a document-term matrix (DTM). Here each cosmetic product will correspond to a document, and each chemical composition will correspond to a term. This means we can think of the matrix as a <em>“cosmetic-ingredient”</em> matrix. The size of the matrix should be as the picture shown below.\n",
    "<img src=\"https://assets.datacamp.com/production/project_695/img/image_2.PNG\" style=\"width:600px;height:250px;\">\n",
    "To create this matrix, we'll first make an empty matrix filled with zeros. The length of the matrix is the total number of cosmetic products in the data. The width of the matrix is the total number of ingredients. After initializing this empty matrix, we'll fill it in the following tasks. </p>"
   ]
  },
  {
   "cell_type": "code",
   "execution_count": 13,
   "metadata": {
    "dc": {
     "key": "26"
    },
    "tags": [
     "sample_code"
    ]
   },
   "outputs": [
    {
     "data": {
      "text/plain": [
       "(190, 2233)"
      ]
     },
     "execution_count": 13,
     "metadata": {},
     "output_type": "execute_result"
    }
   ],
   "source": [
    "# Get the number of items and tokens \n",
    "M = len(moisturizers_dry)\n",
    "N = len(ingredient_idx)\n",
    "\n",
    "# Initialize a matrix of zeros\n",
    "A = np.zeros((M,N) , dtype = int)\n",
    "A.shape"
   ]
  },
  {
   "cell_type": "markdown",
   "metadata": {
    "dc": {
     "key": "33"
    },
    "deletable": false,
    "editable": false,
    "run_control": {
     "frozen": true
    },
    "tags": [
     "context"
    ]
   },
   "source": [
    "## 5. Creating a counter function\n",
    "<p>Before we can fill the matrix, let's create a function to count the tokens (i.e., an ingredients list) for each row. Our end goal is to fill the matrix with 1 or 0: if an ingredient is in a cosmetic, the value is 1. If not, it remains 0. The name of this function, <code>oh_encoder</code>, will become clear next.</p>"
   ]
  },
  {
   "cell_type": "code",
   "execution_count": 14,
   "metadata": {
    "dc": {
     "key": "33"
    },
    "tags": [
     "sample_code"
    ]
   },
   "outputs": [],
   "source": [
    "# Define the oh_encoder function\n",
    "def oh_encoder(tokens):\n",
    "    x = [0]*len(ingredient_idx)\n",
    "    for ingredient in tokens:\n",
    "        if ingredient in ingredient_idx:\n",
    "            # Get the index for each ingredient\n",
    "            idx = ingredient_idx[ingredient]\n",
    "            # Put 1 at the corresponding indices\n",
    "            x[idx] = 1\n",
    "    return x"
   ]
  },
  {
   "cell_type": "markdown",
   "metadata": {
    "dc": {
     "key": "40"
    },
    "deletable": false,
    "editable": false,
    "run_control": {
     "frozen": true
    },
    "tags": [
     "context"
    ]
   },
   "source": [
    "## 6. The Cosmetic-Ingredient matrix!\n",
    "<p>Now we'll apply the <code>oh_encoder()</code> functon to the tokens in <code>corpus</code> and set the values at each row of this matrix. So the result will tell us what ingredients each item is composed of. For example, if a cosmetic item contains <em>water, niacin, decyl aleate</em> and <em>sh-polypeptide-1</em>, the outcome of this item will be as follows. \n",
    "<img src=\"https://assets.datacamp.com/production/project_695/img/image_3.PNG\" style=\"width:800px;height:400px;\">\n",
    "This is what we called one-hot encoding. By encoding each ingredient in the items, the <em>Cosmetic-Ingredient</em> matrix will be filled with binary values. </p>"
   ]
  },
  {
   "cell_type": "code",
   "execution_count": 15,
   "metadata": {
    "dc": {
     "key": "40"
    },
    "tags": [
     "sample_code"
    ]
   },
   "outputs": [
    {
     "data": {
      "text/plain": [
       "190"
      ]
     },
     "execution_count": 15,
     "metadata": {},
     "output_type": "execute_result"
    }
   ],
   "source": [
    "# Make a document-term matrix\n",
    "i = 0\n",
    "for tokens in corpus:\n",
    "    A[i, :] = oh_encoder(tokens)\n",
    "    i+=1\n",
    "    # ... YOUR CODE FOR Task 6 \n",
    "\n",
    "A.shape[0]"
   ]
  },
  {
   "cell_type": "markdown",
   "metadata": {
    "dc": {
     "key": "47"
    },
    "deletable": false,
    "editable": false,
    "run_control": {
     "frozen": true
    },
    "tags": [
     "context"
    ]
   },
   "source": [
    "## 7. Dimension reduction with t-SNE\n",
    "<p>The dimensions of the existing matrix is (190, 2233), which means there are 2233 features in our data. For visualization, we should downsize this into two dimensions. We'll use t-SNE for reducing the dimension of the data here.</p>\n",
    "<p><strong><a href=\"https://en.wikipedia.org/wiki/T-distributed_stochastic_neighbor_embedding\">T-distributed Stochastic Neighbor Embedding (t-SNE)</a></strong> is a nonlinear dimensionality reduction technique that is well-suited for embedding high-dimensional data for visualization in a low-dimensional space of two or three dimensions. Specifically, this technique can reduce the dimension of data while keeping the similarities between the instances. This enables us to make a plot on the coordinate plane, which can be said as vectorizing. All of these cosmetic items in our data will be vectorized into two-dimensional coordinates, and the distances between the points will indicate the similarities between the items. </p>"
   ]
  },
  {
   "cell_type": "code",
   "execution_count": 16,
   "metadata": {
    "dc": {
     "key": "47"
    },
    "tags": [
     "sample_code"
    ]
   },
   "outputs": [],
   "source": [
    "# Dimension reduction with t-SNE\n",
    "n_samples=A.shape[0]\n",
    "\n",
    "model = TSNE(n_components = 2 , learning_rate=200 , random_state=42) \n",
    "tsne_features = model.fit_transform(A)\n",
    "\n",
    "# Make X, Y columns \n",
    "moisturizers_dry['X'] = tsne_features[:,0]\n",
    "moisturizers_dry['Y'] = tsne_features[:,1]"
   ]
  },
  {
   "cell_type": "markdown",
   "metadata": {
    "dc": {
     "key": "55"
    },
    "deletable": false,
    "editable": false,
    "run_control": {
     "frozen": true
    },
    "tags": [
     "context"
    ]
   },
   "source": [
    "## 8. Let's map the items with Bokeh\n",
    "<p>We are now ready to start creating our plot. With the t-SNE values, we can plot all our items on the coordinate plane. And the coolest part here is that it will also show us the name, the brand, the price and the rank of each item. Let's make a scatter plot using Bokeh and add a hover tool to show that information. Note that we won't display the plot yet as we will make some more additions to it.</p>"
   ]
  },
  {
   "cell_type": "code",
   "execution_count": 21,
   "metadata": {
    "dc": {
     "key": "55"
    },
    "tags": [
     "sample_code"
    ]
   },
   "outputs": [
    {
     "data": {
      "text/html": [
       "    <style>\n",
       "        .bk-notebook-logo {\n",
       "            display: block;\n",
       "            width: 20px;\n",
       "            height: 20px;\n",
       "            background-image: url(data:image/png;base64,iVBORw0KGgoAAAANSUhEUgAAABQAAAAUCAYAAACNiR0NAAAABHNCSVQICAgIfAhkiAAAAAlwSFlzAAALEgAACxIB0t1+/AAAABx0RVh0U29mdHdhcmUAQWRvYmUgRmlyZXdvcmtzIENTNui8sowAAAOkSURBVDiNjZRtaJVlGMd/1/08zzln5zjP1LWcU9N0NkN8m2CYjpgQYQXqSs0I84OLIC0hkEKoPtiH3gmKoiJDU7QpLgoLjLIQCpEsNJ1vqUOdO7ppbuec5+V+rj4ctwzd8IIbbi6u+8f1539dt3A78eXC7QizUF7gyV1fD1Yqg4JWz84yffhm0qkFqBogB9rM8tZdtwVsPUhWhGcFJngGeWrPzHm5oaMmkfEg1usvLFyc8jLRqDOMru7AyC8saQr7GG7f5fvDeH7Ej8CM66nIF+8yngt6HWaKh7k49Soy9nXurCi1o3qUbS3zWfrYeQDTB/Qj6kX6Ybhw4B+bOYoLKCC9H3Nu/leUTZ1JdRWkkn2ldcCamzrcf47KKXdAJllSlxAOkRgyHsGC/zRday5Qld9DyoM4/q/rUoy/CXh3jzOu3bHUVZeU+DEn8FInkPBFlu3+nW3Nw0mk6vCDiWg8CeJaxEwuHS3+z5RgY+YBR6V1Z1nxSOfoaPa4LASWxxdNp+VWTk7+4vzaou8v8PN+xo+KY2xsw6une2frhw05CTYOmQvsEhjhWjn0bmXPjpE1+kplmmkP3suftwTubK9Vq22qKmrBhpY4jvd5afdRA3wGjFAgcnTK2s4hY0/GPNIb0nErGMCRxWOOX64Z8RAC4oCXdklmEvcL8o0BfkNK4lUg9HTl+oPlQxdNo3Mg4Nv175e/1LDGzZen30MEjRUtmXSfiTVu1kK8W4txyV6BMKlbgk3lMwYCiusNy9fVfvvwMxv8Ynl6vxoByANLTWplvuj/nF9m2+PDtt1eiHPBr1oIfhCChQMBw6Aw0UulqTKZdfVvfG7VcfIqLG9bcldL/+pdWTLxLUy8Qq38heUIjh4XlzZxzQm19lLFlr8vdQ97rjZVOLf8nclzckbcD4wxXMidpX30sFd37Fv/GtwwhzhxGVAprjbg0gCAEeIgwCZyTV2Z1REEW8O4py0wsjeloKoMr6iCY6dP92H6Vw/oTyICIthibxjm/DfN9lVz8IqtqKYLUXfoKVMVQVVJOElGjrnnUt9T9wbgp8AyYKaGlqingHZU/uG2NTZSVqwHQTWkx9hxjkpWDaCg6Ckj5qebgBVbT3V3NNXMSiWSDdGV3hrtzla7J+duwPOToIg42ChPQOQjspnSlp1V+Gjdged7+8UN5CRAV7a5EdFNwCjEaBR27b3W890TE7g24NAP/mMDXRWrGoFPQI9ls/MWO2dWFAar/xcOIImbbpA3zgAAAABJRU5ErkJggg==);\n",
       "        }\n",
       "    </style>\n",
       "    <div>\n",
       "        <a href=\"https://bokeh.org\" target=\"_blank\" class=\"bk-notebook-logo\"></a>\n",
       "        <span id=\"bc708c69-4f12-4473-95cc-f8b3da62e1a3\">Loading BokehJS ...</span>\n",
       "    </div>\n"
      ]
     },
     "metadata": {},
     "output_type": "display_data"
    },
    {
     "data": {
      "application/javascript": [
       "'use strict';\n",
       "(function(root) {\n",
       "  function now() {\n",
       "    return new Date();\n",
       "  }\n",
       "\n",
       "  const force = true;\n",
       "\n",
       "  if (typeof root._bokeh_onload_callbacks === \"undefined\" || force === true) {\n",
       "    root._bokeh_onload_callbacks = [];\n",
       "    root._bokeh_is_loading = undefined;\n",
       "  }\n",
       "\n",
       "const JS_MIME_TYPE = 'application/javascript';\n",
       "  const HTML_MIME_TYPE = 'text/html';\n",
       "  const EXEC_MIME_TYPE = 'application/vnd.bokehjs_exec.v0+json';\n",
       "  const CLASS_NAME = 'output_bokeh rendered_html';\n",
       "\n",
       "  /**\n",
       "   * Render data to the DOM node\n",
       "   */\n",
       "  function render(props, node) {\n",
       "    const script = document.createElement(\"script\");\n",
       "    node.appendChild(script);\n",
       "  }\n",
       "\n",
       "  /**\n",
       "   * Handle when an output is cleared or removed\n",
       "   */\n",
       "  function handleClearOutput(event, handle) {\n",
       "    function drop(id) {\n",
       "      const view = Bokeh.index.get_by_id(id)\n",
       "      if (view != null) {\n",
       "        view.model.document.clear()\n",
       "        Bokeh.index.delete(view)\n",
       "      }\n",
       "    }\n",
       "\n",
       "    const cell = handle.cell;\n",
       "\n",
       "    const id = cell.output_area._bokeh_element_id;\n",
       "    const server_id = cell.output_area._bokeh_server_id;\n",
       "\n",
       "    // Clean up Bokeh references\n",
       "    if (id != null) {\n",
       "      drop(id)\n",
       "    }\n",
       "\n",
       "    if (server_id !== undefined) {\n",
       "      // Clean up Bokeh references\n",
       "      const cmd_clean = \"from bokeh.io.state import curstate; print(curstate().uuid_to_server['\" + server_id + \"'].get_sessions()[0].document.roots[0]._id)\";\n",
       "      cell.notebook.kernel.execute(cmd_clean, {\n",
       "        iopub: {\n",
       "          output: function(msg) {\n",
       "            const id = msg.content.text.trim()\n",
       "            drop(id)\n",
       "          }\n",
       "        }\n",
       "      });\n",
       "      // Destroy server and session\n",
       "      const cmd_destroy = \"import bokeh.io.notebook as ion; ion.destroy_server('\" + server_id + \"')\";\n",
       "      cell.notebook.kernel.execute(cmd_destroy);\n",
       "    }\n",
       "  }\n",
       "\n",
       "  /**\n",
       "   * Handle when a new output is added\n",
       "   */\n",
       "  function handleAddOutput(event, handle) {\n",
       "    const output_area = handle.output_area;\n",
       "    const output = handle.output;\n",
       "\n",
       "    // limit handleAddOutput to display_data with EXEC_MIME_TYPE content only\n",
       "    if ((output.output_type != \"display_data\") || (!Object.prototype.hasOwnProperty.call(output.data, EXEC_MIME_TYPE))) {\n",
       "      return\n",
       "    }\n",
       "\n",
       "    const toinsert = output_area.element.find(\".\" + CLASS_NAME.split(' ')[0]);\n",
       "\n",
       "    if (output.metadata[EXEC_MIME_TYPE][\"id\"] !== undefined) {\n",
       "      toinsert[toinsert.length - 1].firstChild.textContent = output.data[JS_MIME_TYPE];\n",
       "      // store reference to embed id on output_area\n",
       "      output_area._bokeh_element_id = output.metadata[EXEC_MIME_TYPE][\"id\"];\n",
       "    }\n",
       "    if (output.metadata[EXEC_MIME_TYPE][\"server_id\"] !== undefined) {\n",
       "      const bk_div = document.createElement(\"div\");\n",
       "      bk_div.innerHTML = output.data[HTML_MIME_TYPE];\n",
       "      const script_attrs = bk_div.children[0].attributes;\n",
       "      for (let i = 0; i < script_attrs.length; i++) {\n",
       "        toinsert[toinsert.length - 1].firstChild.setAttribute(script_attrs[i].name, script_attrs[i].value);\n",
       "        toinsert[toinsert.length - 1].firstChild.textContent = bk_div.children[0].textContent\n",
       "      }\n",
       "      // store reference to server id on output_area\n",
       "      output_area._bokeh_server_id = output.metadata[EXEC_MIME_TYPE][\"server_id\"];\n",
       "    }\n",
       "  }\n",
       "\n",
       "  function register_renderer(events, OutputArea) {\n",
       "\n",
       "    function append_mime(data, metadata, element) {\n",
       "      // create a DOM node to render to\n",
       "      const toinsert = this.create_output_subarea(\n",
       "        metadata,\n",
       "        CLASS_NAME,\n",
       "        EXEC_MIME_TYPE\n",
       "      );\n",
       "      this.keyboard_manager.register_events(toinsert);\n",
       "      // Render to node\n",
       "      const props = {data: data, metadata: metadata[EXEC_MIME_TYPE]};\n",
       "      render(props, toinsert[toinsert.length - 1]);\n",
       "      element.append(toinsert);\n",
       "      return toinsert\n",
       "    }\n",
       "\n",
       "    /* Handle when an output is cleared or removed */\n",
       "    events.on('clear_output.CodeCell', handleClearOutput);\n",
       "    events.on('delete.Cell', handleClearOutput);\n",
       "\n",
       "    /* Handle when a new output is added */\n",
       "    events.on('output_added.OutputArea', handleAddOutput);\n",
       "\n",
       "    /**\n",
       "     * Register the mime type and append_mime function with output_area\n",
       "     */\n",
       "    OutputArea.prototype.register_mime_type(EXEC_MIME_TYPE, append_mime, {\n",
       "      /* Is output safe? */\n",
       "      safe: true,\n",
       "      /* Index of renderer in `output_area.display_order` */\n",
       "      index: 0\n",
       "    });\n",
       "  }\n",
       "\n",
       "  // register the mime type if in Jupyter Notebook environment and previously unregistered\n",
       "  if (root.Jupyter !== undefined) {\n",
       "    const events = require('base/js/events');\n",
       "    const OutputArea = require('notebook/js/outputarea').OutputArea;\n",
       "\n",
       "    if (OutputArea.prototype.mime_types().indexOf(EXEC_MIME_TYPE) == -1) {\n",
       "      register_renderer(events, OutputArea);\n",
       "    }\n",
       "  }\n",
       "  if (typeof (root._bokeh_timeout) === \"undefined\" || force === true) {\n",
       "    root._bokeh_timeout = Date.now() + 5000;\n",
       "    root._bokeh_failed_load = false;\n",
       "  }\n",
       "\n",
       "  const NB_LOAD_WARNING = {'data': {'text/html':\n",
       "     \"<div style='background-color: #fdd'>\\n\"+\n",
       "     \"<p>\\n\"+\n",
       "     \"BokehJS does not appear to have successfully loaded. If loading BokehJS from CDN, this \\n\"+\n",
       "     \"may be due to a slow or bad network connection. Possible fixes:\\n\"+\n",
       "     \"</p>\\n\"+\n",
       "     \"<ul>\\n\"+\n",
       "     \"<li>re-rerun `output_notebook()` to attempt to load from CDN again, or</li>\\n\"+\n",
       "     \"<li>use INLINE resources instead, as so:</li>\\n\"+\n",
       "     \"</ul>\\n\"+\n",
       "     \"<code>\\n\"+\n",
       "     \"from bokeh.resources import INLINE\\n\"+\n",
       "     \"output_notebook(resources=INLINE)\\n\"+\n",
       "     \"</code>\\n\"+\n",
       "     \"</div>\"}};\n",
       "\n",
       "  function display_loaded(error = null) {\n",
       "    const el = document.getElementById(\"bc708c69-4f12-4473-95cc-f8b3da62e1a3\");\n",
       "    if (el != null) {\n",
       "      const html = (() => {\n",
       "        if (typeof root.Bokeh === \"undefined\") {\n",
       "          if (error == null) {\n",
       "            return \"BokehJS is loading ...\";\n",
       "          } else {\n",
       "            return \"BokehJS failed to load.\";\n",
       "          }\n",
       "        } else {\n",
       "          const prefix = `BokehJS ${root.Bokeh.version}`;\n",
       "          if (error == null) {\n",
       "            return `${prefix} successfully loaded.`;\n",
       "          } else {\n",
       "            return `${prefix} <b>encountered errors</b> while loading and may not function as expected.`;\n",
       "          }\n",
       "        }\n",
       "      })();\n",
       "      el.innerHTML = html;\n",
       "\n",
       "      if (error != null) {\n",
       "        const wrapper = document.createElement(\"div\");\n",
       "        wrapper.style.overflow = \"auto\";\n",
       "        wrapper.style.height = \"5em\";\n",
       "        wrapper.style.resize = \"vertical\";\n",
       "        const content = document.createElement(\"div\");\n",
       "        content.style.fontFamily = \"monospace\";\n",
       "        content.style.whiteSpace = \"pre-wrap\";\n",
       "        content.style.backgroundColor = \"rgb(255, 221, 221)\";\n",
       "        content.textContent = error.stack ?? error.toString();\n",
       "        wrapper.append(content);\n",
       "        el.append(wrapper);\n",
       "      }\n",
       "    } else if (Date.now() < root._bokeh_timeout) {\n",
       "      setTimeout(() => display_loaded(error), 100);\n",
       "    }\n",
       "  }\n",
       "\n",
       "  function run_callbacks() {\n",
       "    try {\n",
       "      root._bokeh_onload_callbacks.forEach(function(callback) {\n",
       "        if (callback != null)\n",
       "          callback();\n",
       "      });\n",
       "    } finally {\n",
       "      delete root._bokeh_onload_callbacks\n",
       "    }\n",
       "    console.debug(\"Bokeh: all callbacks have finished\");\n",
       "  }\n",
       "\n",
       "  function load_libs(css_urls, js_urls, callback) {\n",
       "    if (css_urls == null) css_urls = [];\n",
       "    if (js_urls == null) js_urls = [];\n",
       "\n",
       "    root._bokeh_onload_callbacks.push(callback);\n",
       "    if (root._bokeh_is_loading > 0) {\n",
       "      console.debug(\"Bokeh: BokehJS is being loaded, scheduling callback at\", now());\n",
       "      return null;\n",
       "    }\n",
       "    if (js_urls == null || js_urls.length === 0) {\n",
       "      run_callbacks();\n",
       "      return null;\n",
       "    }\n",
       "    console.debug(\"Bokeh: BokehJS not loaded, scheduling load and callback at\", now());\n",
       "    root._bokeh_is_loading = css_urls.length + js_urls.length;\n",
       "\n",
       "    function on_load() {\n",
       "      root._bokeh_is_loading--;\n",
       "      if (root._bokeh_is_loading === 0) {\n",
       "        console.debug(\"Bokeh: all BokehJS libraries/stylesheets loaded\");\n",
       "        run_callbacks()\n",
       "      }\n",
       "    }\n",
       "\n",
       "    function on_error(url) {\n",
       "      console.error(\"failed to load \" + url);\n",
       "    }\n",
       "\n",
       "    for (let i = 0; i < css_urls.length; i++) {\n",
       "      const url = css_urls[i];\n",
       "      const element = document.createElement(\"link\");\n",
       "      element.onload = on_load;\n",
       "      element.onerror = on_error.bind(null, url);\n",
       "      element.rel = \"stylesheet\";\n",
       "      element.type = \"text/css\";\n",
       "      element.href = url;\n",
       "      console.debug(\"Bokeh: injecting link tag for BokehJS stylesheet: \", url);\n",
       "      document.body.appendChild(element);\n",
       "    }\n",
       "\n",
       "    for (let i = 0; i < js_urls.length; i++) {\n",
       "      const url = js_urls[i];\n",
       "      const element = document.createElement('script');\n",
       "      element.onload = on_load;\n",
       "      element.onerror = on_error.bind(null, url);\n",
       "      element.async = false;\n",
       "      element.src = url;\n",
       "      console.debug(\"Bokeh: injecting script tag for BokehJS library: \", url);\n",
       "      document.head.appendChild(element);\n",
       "    }\n",
       "  };\n",
       "\n",
       "  function inject_raw_css(css) {\n",
       "    const element = document.createElement(\"style\");\n",
       "    element.appendChild(document.createTextNode(css));\n",
       "    document.body.appendChild(element);\n",
       "  }\n",
       "\n",
       "  const js_urls = [\"https://cdn.bokeh.org/bokeh/release/bokeh-3.6.2.min.js\", \"https://cdn.bokeh.org/bokeh/release/bokeh-gl-3.6.2.min.js\", \"https://cdn.bokeh.org/bokeh/release/bokeh-widgets-3.6.2.min.js\", \"https://cdn.bokeh.org/bokeh/release/bokeh-tables-3.6.2.min.js\", \"https://cdn.bokeh.org/bokeh/release/bokeh-mathjax-3.6.2.min.js\"];\n",
       "  const css_urls = [];\n",
       "\n",
       "  const inline_js = [    function(Bokeh) {\n",
       "      Bokeh.set_log_level(\"info\");\n",
       "    },\n",
       "function(Bokeh) {\n",
       "    }\n",
       "  ];\n",
       "\n",
       "  function run_inline_js() {\n",
       "    if (root.Bokeh !== undefined || force === true) {\n",
       "      try {\n",
       "            for (let i = 0; i < inline_js.length; i++) {\n",
       "      inline_js[i].call(root, root.Bokeh);\n",
       "    }\n",
       "\n",
       "      } catch (error) {display_loaded(error);throw error;\n",
       "      }if (force === true) {\n",
       "        display_loaded();\n",
       "      }} else if (Date.now() < root._bokeh_timeout) {\n",
       "      setTimeout(run_inline_js, 100);\n",
       "    } else if (!root._bokeh_failed_load) {\n",
       "      console.log(\"Bokeh: BokehJS failed to load within specified timeout.\");\n",
       "      root._bokeh_failed_load = true;\n",
       "    } else if (force !== true) {\n",
       "      const cell = $(document.getElementById(\"bc708c69-4f12-4473-95cc-f8b3da62e1a3\")).parents('.cell').data().cell;\n",
       "      cell.output_area.append_execute_result(NB_LOAD_WARNING)\n",
       "    }\n",
       "  }\n",
       "\n",
       "  if (root._bokeh_is_loading === 0) {\n",
       "    console.debug(\"Bokeh: BokehJS loaded, going straight to plotting\");\n",
       "    run_inline_js();\n",
       "  } else {\n",
       "    load_libs(css_urls, js_urls, function() {\n",
       "      console.debug(\"Bokeh: BokehJS plotting callback run at\", now());\n",
       "      run_inline_js();\n",
       "    });\n",
       "  }\n",
       "}(window));"
      ],
      "application/vnd.bokehjs_load.v0+json": "'use strict';\n(function(root) {\n  function now() {\n    return new Date();\n  }\n\n  const force = true;\n\n  if (typeof root._bokeh_onload_callbacks === \"undefined\" || force === true) {\n    root._bokeh_onload_callbacks = [];\n    root._bokeh_is_loading = undefined;\n  }\n\n\n  if (typeof (root._bokeh_timeout) === \"undefined\" || force === true) {\n    root._bokeh_timeout = Date.now() + 5000;\n    root._bokeh_failed_load = false;\n  }\n\n  const NB_LOAD_WARNING = {'data': {'text/html':\n     \"<div style='background-color: #fdd'>\\n\"+\n     \"<p>\\n\"+\n     \"BokehJS does not appear to have successfully loaded. If loading BokehJS from CDN, this \\n\"+\n     \"may be due to a slow or bad network connection. Possible fixes:\\n\"+\n     \"</p>\\n\"+\n     \"<ul>\\n\"+\n     \"<li>re-rerun `output_notebook()` to attempt to load from CDN again, or</li>\\n\"+\n     \"<li>use INLINE resources instead, as so:</li>\\n\"+\n     \"</ul>\\n\"+\n     \"<code>\\n\"+\n     \"from bokeh.resources import INLINE\\n\"+\n     \"output_notebook(resources=INLINE)\\n\"+\n     \"</code>\\n\"+\n     \"</div>\"}};\n\n  function display_loaded(error = null) {\n    const el = document.getElementById(\"bc708c69-4f12-4473-95cc-f8b3da62e1a3\");\n    if (el != null) {\n      const html = (() => {\n        if (typeof root.Bokeh === \"undefined\") {\n          if (error == null) {\n            return \"BokehJS is loading ...\";\n          } else {\n            return \"BokehJS failed to load.\";\n          }\n        } else {\n          const prefix = `BokehJS ${root.Bokeh.version}`;\n          if (error == null) {\n            return `${prefix} successfully loaded.`;\n          } else {\n            return `${prefix} <b>encountered errors</b> while loading and may not function as expected.`;\n          }\n        }\n      })();\n      el.innerHTML = html;\n\n      if (error != null) {\n        const wrapper = document.createElement(\"div\");\n        wrapper.style.overflow = \"auto\";\n        wrapper.style.height = \"5em\";\n        wrapper.style.resize = \"vertical\";\n        const content = document.createElement(\"div\");\n        content.style.fontFamily = \"monospace\";\n        content.style.whiteSpace = \"pre-wrap\";\n        content.style.backgroundColor = \"rgb(255, 221, 221)\";\n        content.textContent = error.stack ?? error.toString();\n        wrapper.append(content);\n        el.append(wrapper);\n      }\n    } else if (Date.now() < root._bokeh_timeout) {\n      setTimeout(() => display_loaded(error), 100);\n    }\n  }\n\n  function run_callbacks() {\n    try {\n      root._bokeh_onload_callbacks.forEach(function(callback) {\n        if (callback != null)\n          callback();\n      });\n    } finally {\n      delete root._bokeh_onload_callbacks\n    }\n    console.debug(\"Bokeh: all callbacks have finished\");\n  }\n\n  function load_libs(css_urls, js_urls, callback) {\n    if (css_urls == null) css_urls = [];\n    if (js_urls == null) js_urls = [];\n\n    root._bokeh_onload_callbacks.push(callback);\n    if (root._bokeh_is_loading > 0) {\n      console.debug(\"Bokeh: BokehJS is being loaded, scheduling callback at\", now());\n      return null;\n    }\n    if (js_urls == null || js_urls.length === 0) {\n      run_callbacks();\n      return null;\n    }\n    console.debug(\"Bokeh: BokehJS not loaded, scheduling load and callback at\", now());\n    root._bokeh_is_loading = css_urls.length + js_urls.length;\n\n    function on_load() {\n      root._bokeh_is_loading--;\n      if (root._bokeh_is_loading === 0) {\n        console.debug(\"Bokeh: all BokehJS libraries/stylesheets loaded\");\n        run_callbacks()\n      }\n    }\n\n    function on_error(url) {\n      console.error(\"failed to load \" + url);\n    }\n\n    for (let i = 0; i < css_urls.length; i++) {\n      const url = css_urls[i];\n      const element = document.createElement(\"link\");\n      element.onload = on_load;\n      element.onerror = on_error.bind(null, url);\n      element.rel = \"stylesheet\";\n      element.type = \"text/css\";\n      element.href = url;\n      console.debug(\"Bokeh: injecting link tag for BokehJS stylesheet: \", url);\n      document.body.appendChild(element);\n    }\n\n    for (let i = 0; i < js_urls.length; i++) {\n      const url = js_urls[i];\n      const element = document.createElement('script');\n      element.onload = on_load;\n      element.onerror = on_error.bind(null, url);\n      element.async = false;\n      element.src = url;\n      console.debug(\"Bokeh: injecting script tag for BokehJS library: \", url);\n      document.head.appendChild(element);\n    }\n  };\n\n  function inject_raw_css(css) {\n    const element = document.createElement(\"style\");\n    element.appendChild(document.createTextNode(css));\n    document.body.appendChild(element);\n  }\n\n  const js_urls = [\"https://cdn.bokeh.org/bokeh/release/bokeh-3.6.2.min.js\", \"https://cdn.bokeh.org/bokeh/release/bokeh-gl-3.6.2.min.js\", \"https://cdn.bokeh.org/bokeh/release/bokeh-widgets-3.6.2.min.js\", \"https://cdn.bokeh.org/bokeh/release/bokeh-tables-3.6.2.min.js\", \"https://cdn.bokeh.org/bokeh/release/bokeh-mathjax-3.6.2.min.js\"];\n  const css_urls = [];\n\n  const inline_js = [    function(Bokeh) {\n      Bokeh.set_log_level(\"info\");\n    },\nfunction(Bokeh) {\n    }\n  ];\n\n  function run_inline_js() {\n    if (root.Bokeh !== undefined || force === true) {\n      try {\n            for (let i = 0; i < inline_js.length; i++) {\n      inline_js[i].call(root, root.Bokeh);\n    }\n\n      } catch (error) {display_loaded(error);throw error;\n      }if (force === true) {\n        display_loaded();\n      }} else if (Date.now() < root._bokeh_timeout) {\n      setTimeout(run_inline_js, 100);\n    } else if (!root._bokeh_failed_load) {\n      console.log(\"Bokeh: BokehJS failed to load within specified timeout.\");\n      root._bokeh_failed_load = true;\n    } else if (force !== true) {\n      const cell = $(document.getElementById(\"bc708c69-4f12-4473-95cc-f8b3da62e1a3\")).parents('.cell').data().cell;\n      cell.output_area.append_execute_result(NB_LOAD_WARNING)\n    }\n  }\n\n  if (root._bokeh_is_loading === 0) {\n    console.debug(\"Bokeh: BokehJS loaded, going straight to plotting\");\n    run_inline_js();\n  } else {\n    load_libs(css_urls, js_urls, function() {\n      console.debug(\"Bokeh: BokehJS plotting callback run at\", now());\n      run_inline_js();\n    });\n  }\n}(window));"
     },
     "metadata": {},
     "output_type": "display_data"
    },
    {
     "data": {
      "text/html": [
       "<div style=\"display: table;\"><div style=\"display: table-row;\"><div style=\"display: table-cell;\"><b title=\"bokeh.models.renderers.glyph_renderer.GlyphRenderer\">GlyphRenderer</b>(</div><div style=\"display: table-cell;\">id&nbsp;=&nbsp;'p1092', <span id=\"p1096\" style=\"cursor: pointer;\">&hellip;)</span></div></div><div class=\"p1095\" style=\"display: none;\"><div style=\"display: table-cell;\"></div><div style=\"display: table-cell;\">context_menu&nbsp;=&nbsp;None,</div></div><div class=\"p1095\" style=\"display: none;\"><div style=\"display: table-cell;\"></div><div style=\"display: table-cell;\">coordinates&nbsp;=&nbsp;None,</div></div><div class=\"p1095\" style=\"display: none;\"><div style=\"display: table-cell;\"></div><div style=\"display: table-cell;\">css_classes&nbsp;=&nbsp;[],</div></div><div class=\"p1095\" style=\"display: none;\"><div style=\"display: table-cell;\"></div><div style=\"display: table-cell;\">css_variables&nbsp;=&nbsp;{},</div></div><div class=\"p1095\" style=\"display: none;\"><div style=\"display: table-cell;\"></div><div style=\"display: table-cell;\">data_source&nbsp;=&nbsp;ColumnDataSource(id='p1049', ...),</div></div><div class=\"p1095\" style=\"display: none;\"><div style=\"display: table-cell;\"></div><div style=\"display: table-cell;\">glyph&nbsp;=&nbsp;Scatter(id='p1089', ...),</div></div><div class=\"p1095\" style=\"display: none;\"><div style=\"display: table-cell;\"></div><div style=\"display: table-cell;\">group&nbsp;=&nbsp;None,</div></div><div class=\"p1095\" style=\"display: none;\"><div style=\"display: table-cell;\"></div><div style=\"display: table-cell;\">hover_glyph&nbsp;=&nbsp;None,</div></div><div class=\"p1095\" style=\"display: none;\"><div style=\"display: table-cell;\"></div><div style=\"display: table-cell;\">js_event_callbacks&nbsp;=&nbsp;{},</div></div><div class=\"p1095\" style=\"display: none;\"><div style=\"display: table-cell;\"></div><div style=\"display: table-cell;\">js_property_callbacks&nbsp;=&nbsp;{},</div></div><div class=\"p1095\" style=\"display: none;\"><div style=\"display: table-cell;\"></div><div style=\"display: table-cell;\">level&nbsp;=&nbsp;'glyph',</div></div><div class=\"p1095\" style=\"display: none;\"><div style=\"display: table-cell;\"></div><div style=\"display: table-cell;\">muted&nbsp;=&nbsp;False,</div></div><div class=\"p1095\" style=\"display: none;\"><div style=\"display: table-cell;\"></div><div style=\"display: table-cell;\">muted_glyph&nbsp;=&nbsp;Scatter(id='p1091', ...),</div></div><div class=\"p1095\" style=\"display: none;\"><div style=\"display: table-cell;\"></div><div style=\"display: table-cell;\">name&nbsp;=&nbsp;None,</div></div><div class=\"p1095\" style=\"display: none;\"><div style=\"display: table-cell;\"></div><div style=\"display: table-cell;\">nonselection_glyph&nbsp;=&nbsp;Scatter(id='p1090', ...),</div></div><div class=\"p1095\" style=\"display: none;\"><div style=\"display: table-cell;\"></div><div style=\"display: table-cell;\">propagate_hover&nbsp;=&nbsp;False,</div></div><div class=\"p1095\" style=\"display: none;\"><div style=\"display: table-cell;\"></div><div style=\"display: table-cell;\">selection_glyph&nbsp;=&nbsp;'auto',</div></div><div class=\"p1095\" style=\"display: none;\"><div style=\"display: table-cell;\"></div><div style=\"display: table-cell;\">styles&nbsp;=&nbsp;{},</div></div><div class=\"p1095\" style=\"display: none;\"><div style=\"display: table-cell;\"></div><div style=\"display: table-cell;\">stylesheets&nbsp;=&nbsp;[],</div></div><div class=\"p1095\" style=\"display: none;\"><div style=\"display: table-cell;\"></div><div style=\"display: table-cell;\">subscribed_events&nbsp;=&nbsp;PropertyValueSet(),</div></div><div class=\"p1095\" style=\"display: none;\"><div style=\"display: table-cell;\"></div><div style=\"display: table-cell;\">syncable&nbsp;=&nbsp;True,</div></div><div class=\"p1095\" style=\"display: none;\"><div style=\"display: table-cell;\"></div><div style=\"display: table-cell;\">tags&nbsp;=&nbsp;[],</div></div><div class=\"p1095\" style=\"display: none;\"><div style=\"display: table-cell;\"></div><div style=\"display: table-cell;\">view&nbsp;=&nbsp;CDSView(id='p1093', ...),</div></div><div class=\"p1095\" style=\"display: none;\"><div style=\"display: table-cell;\"></div><div style=\"display: table-cell;\">visible&nbsp;=&nbsp;True,</div></div><div class=\"p1095\" style=\"display: none;\"><div style=\"display: table-cell;\"></div><div style=\"display: table-cell;\">x_range_name&nbsp;=&nbsp;'default',</div></div><div class=\"p1095\" style=\"display: none;\"><div style=\"display: table-cell;\"></div><div style=\"display: table-cell;\">y_range_name&nbsp;=&nbsp;'default')</div></div></div>\n",
       "<script>\n",
       "(function() {\n",
       "  let expanded = false;\n",
       "  const ellipsis = document.getElementById(\"p1096\");\n",
       "  ellipsis.addEventListener(\"click\", function() {\n",
       "    const rows = document.getElementsByClassName(\"p1095\");\n",
       "    for (let i = 0; i < rows.length; i++) {\n",
       "      const el = rows[i];\n",
       "      el.style.display = expanded ? \"none\" : \"table-row\";\n",
       "    }\n",
       "    ellipsis.innerHTML = expanded ? \"&hellip;)\" : \"&lsaquo;&lsaquo;&lsaquo;\";\n",
       "    expanded = !expanded;\n",
       "  });\n",
       "})();\n",
       "</script>\n"
      ],
      "text/plain": [
       "GlyphRenderer(id='p1092', ...)"
      ]
     },
     "execution_count": 21,
     "metadata": {},
     "output_type": "execute_result"
    }
   ],
   "source": [
    "from bokeh.io import show, output_notebook, push_notebook\n",
    "from bokeh.plotting import figure\n",
    "from bokeh.models import ColumnDataSource, HoverTool\n",
    "output_notebook()\n",
    "\n",
    "# Make a source and a scatter plot  \n",
    "source = ColumnDataSource(data={\n",
    "    'X': moisturizers_dry['X'],\n",
    "    'Y': moisturizers_dry['Y'],\n",
    "    'Name': moisturizers_dry['Name'],\n",
    "    'Brand': moisturizers_dry['Brand'],\n",
    "    'Price': moisturizers_dry['Price'],\n",
    "    'Rank': moisturizers_dry['Rank']\n",
    "})\n",
    "plot = figure(x_axis_label = 'X (t-SNE Dimension 1)', \n",
    "              y_axis_label = 'Y (t-SNE Dimension 2)', \n",
    "              width = 500, height = 400)\n",
    "plot.scatter(x = 'X', \n",
    "    y = 'Y', \n",
    "    source = source, \n",
    "    size = 10, color = '#FF7373', alpha = 0.8)"
   ]
  },
  {
   "cell_type": "markdown",
   "metadata": {
    "dc": {
     "key": "62"
    },
    "deletable": false,
    "editable": false,
    "run_control": {
     "frozen": true
    },
    "tags": [
     "context"
    ]
   },
   "source": [
    "## 9. Adding a hover tool\n",
    "<p>Why don't we add a hover tool? Adding a hover tool allows us to check the information of each item whenever the cursor is directly over a glyph. We'll add tooltips with each product's name, brand, price, and rank (i.e., rating).</p>"
   ]
  },
  {
   "cell_type": "code",
   "execution_count": 24,
   "metadata": {
    "dc": {
     "key": "62"
    },
    "tags": [
     "sample_code"
    ]
   },
   "outputs": [],
   "source": [
    "# Create a HoverTool object\n",
    "hover = HoverTool(tooltips = [(\"Name\",\"@Name\"),\n",
    "                              (\"Brand\",\"@Brand\"),\n",
    "                              (\"Price\",\"@Price\"),\n",
    "                              (\"Rank\",\"@Rank\")])\n",
    "plot.add_tools(hover)\n"
   ]
  },
  {
   "cell_type": "markdown",
   "metadata": {
    "dc": {
     "key": "69"
    },
    "deletable": false,
    "editable": false,
    "run_control": {
     "frozen": true
    },
    "tags": [
     "context"
    ]
   },
   "source": [
    "## 10. Mapping the cosmetic items\n",
    "<p>Finally, it's show time! Let's see how the map we've made looks like. Each point on the plot corresponds to the cosmetic items. Then what do the axes mean here? The axes of a t-SNE plot aren't easily interpretable in terms of the original data. Like mentioned above, t-SNE is a visualizing technique to plot high-dimensional data in a low-dimensional space. Therefore, it's not desirable to interpret a t-SNE plot quantitatively.</p>\n",
    "<p>Instead, what we can get from this map is the distance between the points (which items are close and which are far apart). The closer the distance between the two items is, the more similar the composition they have. Therefore this enables us to compare the items without having any chemistry background.</p>"
   ]
  },
  {
   "cell_type": "code",
   "execution_count": 25,
   "metadata": {
    "dc": {
     "key": "69"
    },
    "tags": [
     "sample_code"
    ]
   },
   "outputs": [
    {
     "data": {
      "text/html": [
       "\n",
       "  <div id=\"a21e3e80-dda1-4f6c-89e1-aa4769bfc123\" data-root-id=\"p1052\" style=\"display: contents;\"></div>\n"
      ]
     },
     "metadata": {},
     "output_type": "display_data"
    },
    {
     "data": {
      "application/javascript": [
       "(function(root) {\n",
       "  function embed_document(root) {\n",
       "  const docs_json = {\"cceb5c1f-403e-4690-9f40-3cf9a686eb7e\":{\"version\":\"3.6.2\",\"title\":\"Bokeh Application\",\"roots\":[{\"type\":\"object\",\"name\":\"Figure\",\"id\":\"p1052\",\"attributes\":{\"width\":500,\"height\":400,\"x_range\":{\"type\":\"object\",\"name\":\"DataRange1d\",\"id\":\"p1053\"},\"y_range\":{\"type\":\"object\",\"name\":\"DataRange1d\",\"id\":\"p1054\"},\"x_scale\":{\"type\":\"object\",\"name\":\"LinearScale\",\"id\":\"p1061\"},\"y_scale\":{\"type\":\"object\",\"name\":\"LinearScale\",\"id\":\"p1062\"},\"title\":{\"type\":\"object\",\"name\":\"Title\",\"id\":\"p1059\"},\"renderers\":[{\"type\":\"object\",\"name\":\"GlyphRenderer\",\"id\":\"p1092\",\"attributes\":{\"data_source\":{\"type\":\"object\",\"name\":\"ColumnDataSource\",\"id\":\"p1049\",\"attributes\":{\"selected\":{\"type\":\"object\",\"name\":\"Selection\",\"id\":\"p1050\",\"attributes\":{\"indices\":[],\"line_indices\":[]}},\"selection_policy\":{\"type\":\"object\",\"name\":\"UnionRenderers\",\"id\":\"p1051\"},\"data\":{\"type\":\"map\",\"entries\":[[\"X\",{\"type\":\"ndarray\",\"array\":{\"type\":\"bytes\",\"data\":\"9TqeQ7OB2UIqBodBacHmQRs00MNZvjxDYA5zv7+I+UGYF5bCVwPcQuArXcNLbW/D0cT2Qmdk3MJ0fYdDUzNAw2skmkMhqVJCYA5zvyKUA0P4VYNCEB30wvvLh8OO6QZBjukGQdZqOkMaaLtDNrt2Q8coBUOq0GjD4lEdQ8MWlMOWo8xC6cXCQ5J1uUMwurjDBOWNQildJUMzgLnCPjdtwtSKesN6R3HCtFFawk4SRMOnDBLDKsHVwuOotkMiBcZCyK+wQsHig8IEgdDDC/1hw0IKV8P6wYtDzsaqQnpEmcKIaLfDm39jQzU1i0MeFD/AkVIBw9kjm0NBCgXDvRDwQrO1HMONHihDg/tcQ47pBkHsUoVDjukGQR8TJMM2FEbDOkSYwzUmFUM1G7DBoTekwYWy1kIoJZXBEYXXQuLKO0NNV/3CZhKJwkJEhEIAAXhCjukGQVhZIsO84idDirRZQA7tyUEG+HLDl9imw9uzPcMnYybD+xCawxabWEKO6QZBpa9lwg1CEcNaT2tCd89EQTbmQkO2MmXDcen0wWAOc78XUk1CZXiwwo7pBkFls4ZDjukGQY7pBkGDgd3BH8aAw96pdUMAO85AjukGQWCoJUOeZWlDM4C5wrd4U0PgY5LDev7VQpCaS0P8HZZDy1kJQE0ts0MkdexCjukGQRALosMbFatBzUCYwo7pBkHdFwPCYA5zv5HDY0Gz/7vCYA5zv96GOUPL0RBD3OxnQpeHIUNEObDD+aLlwhRaxsJoYGRCt+ZoQUHjCsIUstvCfACjwwVLdENfD4lDHepxwk3g6cKwqx3DNtKoQ47pBkGBGI7DjukGQWAOc7+1vHzC3FNYQzgVMEIfzWvDGmQ0wzwkzkKO6QZB+nTOwkEUuEJpMg5DEsBowjoFYUKO6QZBjukGQXsmFsPpSZVCH+C8Q11EGkOO6QZBpBHYwo7pBkEAoXHDYA5zv+10VsNgDnO/+I82w9aUH8MKZEzCQogpwh/fxcJdJ1dD/fHMQg==\"},\"shape\":[190],\"dtype\":\"float32\",\"order\":\"little\"}],[\"Y\",{\"type\":\"ndarray\",\"array\":{\"type\":\"bytes\",\"data\":\"aX/UQbrV5MIxhlhDC3O1wwRK38H4pChCoLTtQfCGCMOJbbfC69Zrw7juG0MLN6nD/WEAwjDlD8ORPQZDwpHWQiZdmcJsKtXDoLTtQZWStMMFlzhDTgWlQwaqv0Ii0ALCItACwg2ctkPpePXChkF7w8pB0cJhloJCmrm4QmRCQcObrZXD1lE3QtjT+sG69jTD7NpBwvMihcPTAd/DfohFwZ6ficJHLVfCPj63w89EcUEy34JBYWuXwzgyU8MFCY7CZWUcQu7y5kGHc0PCFkIgQibk18I/haTBjnI4wbEFlsM7bIBCXU90Q/GtTkOWd53DGSahwXxDGcM6nb5ClIErQ4Il78IAWYJDaQViPiLQAsLbIFzDItACwiMGrcNY9iDDbcRdwn6Mg8LffIPDx829QvJXnEJgkwXD4Sv6QqNvwcLgajpDSWDCQznmvUIofX5DItACwkUgckKVIEhDjY8tw1ESrkNgnGvBddXcwtp7nsLCaYTDxnuIw3PmdEIi0ALC8AWAQ5byX8KIzwlDMMT7QrGAFsMP+ppDuTsXQ6C07UG4fDTDRVmnQiLQAsKfbRfDItACwiLQAsJR0Z9D+swWw33QR0IYeodDItACwufMBUMvm1jC0wHfw1ThxkIcZV1CgURgQzSupcO27pbD9jFcw0rwPENNvT1BItACwj61YUOS4a1ChQcxQyLQAsLdUbzCoLTtQfw/KUOCVDPDoLTtQeedG8JHQg7DXj26wg/NhjsVjvpCxLZpw+QAFUBmLWPDbfLRwgQiTkOWfW5DNGDkP5RSzMLoUI9CZ3Riw4sCucKN8hBDbsjHQiLQAsKDxCNDItACwqC07UHyVwXDsqJPw3eji8P3i3bDVYdRQ7solkMi0ALCB6IFQ5Ehr0OUdEBChxPqQiUPbkEi0ALCItACwkmLOsP3lAjDJEsvQ/2aRsMi0ALCSTQ5QiLQAsLMEWdDoLTtQdr2W8OgtO1BV7IMwu5EiUMf4oRC0wszwye0OMI6giVDnhIyww==\"},\"shape\":[190],\"dtype\":\"float32\",\"order\":\"little\"}],[\"Name\",{\"type\":\"ndarray\",\"array\":[\"Cr\\u00e8me de la Mer\",\"Facial Treatment Essence\",\"Protini\\u2122 Polypeptide Cream\",\"The Moisturizing Soft Cream\",\"Your Skin But Better\\u2122 CC+\\u2122 Cream with SPF 50+\",\"Lala Retro\\u2122 Whipped Cream\",\"Virgin Marula Luxury Facial Oil\",\"Ultra Facial Cream\",\"Midnight Recovery Concentrate\",\"Luna Sleeping Night Oil\",\"Honeymoon Glow AHA Resurfacing Night Serum with Echinacea GreenEnvy\\u2122\",\"The Littles\\u2122\",\"Ultra Repair\\u00ae Cream Intense Hydration\",\"Moisture Surge 72-Hour Auto-Replenishing Hydrator\",\"R.N.A. POWER Face Cream\",\"Cr\\u00e8me de la Mer Mini\",\"Black Tea Firming Overnight Mask\",\"The True Cream Moisturizing Bomb\",\"Virgin Marula Luxury Facial Oil Mini\",\"Dr. Andrew Weil For Origins\\u2122 Mega-Mushroom Relief & Resilience Soothing Treatment Lotion\",\"Dramatically Different Moisturizing Lotion+\",\"GenOptics Aura Essence Serum\",\"Pure One Step Camellia Cleansing Oil\",\"Sheer Transformation\\u00ae Perfecting Moisturizer\",\"100 percent Pure Argan Oil\",\"Your Skin But Better CC+ Cream Oil-Free Matte with SPF 40\",\"Water Sleeping Mask\",\"Water Bank Moisture Cream\",\"Facial Treatment Essence Mini\",\"Luminous Dewy Skin Mist\",\"Benefiance WrinkleResist24 Night Cream\",\"Goodnight Glow Retin-ALT Sleeping Cr\\u00e8me\",\"U.F.O. Ultra-Clarifying Face Oil\",\"Watermelon Glow Sleeping Mask\",\"Pink Cloud Rosewater Moisture Cr\\u00e8me\",\"Tidal Brightening Enzyme Water Cream\",\"Grape Water\",\"Adaptogen Deep Moisture Cream\",\"The Renewal Oil\",\"Squalane + Vitamin C Rose Oil\",\"BB Tinted Treatment 12-Hour Primer Broad Spectrum SPF 30 Sunscreen\",\"GinZing\\u2122 Energy-Boosting Gel Moisturizer\",\"Beauty Water\",\"The Silk Cream\",\"C-Rush\\u2122 Brightening Gel Cr\\u00e8me\",\"Color Control Cushion Compact Broad Spectrum SPF 50+\",\"Cicapair \\u2122 Tiger Grass Color Correcting Treatment SPF 30\",\"Vinosource Moisturizing Sorbet\",\"CC Cr\\u00e8me High Definition Radiance Face Cream Skin Perfector\",\"C.E.O. C + E antiOXIDANT Protect + Repair Moisturizer\",\"Your Skin But Better\\u2122 CC+Illumination\\u2122 Cream with SPF 50+\",\"Luminous Dewy Skin Night Concentrate\",\"GLOWSTARTER\\u2122 Mega Illuminating Moisturizer\",\"Ceramidin\\u2122 Cream\",\"Juno Antioxidant + Superfood Face Oil\",\"BB Cushion Hydra Radiance SPF 50\",\"FUTURE RESPONSE Age Defense Creme\",\"THIRSTYMUD\\u2122 Hydrating Treatment\",\"Honey Drop Lightweight Moisturizer with Echinacea GreenEnvy\\u2122\",\"Water Drench Hyaluronic Cloud Cream\",\"Vintage Single Extract Essence\",\"Confidence in a Cream\\u2122 Transforming Moisturizing Super Cream\",\"Cr\\u00e8me Ancienne\\u00ae\",\"Hello FAB Coconut Skin Smoothie Priming Moisturizer\",\"Secret Sauce Clinically Advanced Miraculous Anti-Aging Moisturizer\",\"Benefiance WrinkleResist24 Day Cream Broad Spectrum SPF 18\",\"Moisture Surge Intense Skin Fortifying Hydrator\",\"Argan Daily Moisturizer SPF 47\",\"Water Bank Essence\",\"The Moisturizing Cool Gel Cream\",\"Renewed Hope in A Jar Refreshing & Refining Moisturizer\",\"Cold Plasma Sub-D Firming Neck Treatment\",\"R\\u00e9nergie Lift Multi-Action Night\",\"GENIUS Ultimate Anti-Aging Cream\",\"Cicapair\\u2122 Tiger Grass Cream\",\"Whipped Argan Oil Face Butter\",\"Nurture Me\\u2122 Moisturizing Cr\\u00e8me\",\"Sleep Tight Firming Night Balm with Echinacea GreenEnvy\\u2122\",\"Original Skin\\u2122 Matte Moisturizer with Willowherb\",\"Phoenix Cell Regenerating Facial Oil\",\"Invigorating Night Transformation\\u2122 Gel\",\"Aqua Bomb Sleeping Mask\",\"The Indigo Cream Soothing Skin Protectant\",\"Squalane + Omega Repair Cream\",\"High-Potency Night-a-Mins\\u2122 Resurfacing Cream with Fruit-Derived AHAs\",\"Daily Reviving Concentrate\",\"Wild Rose + Vitamin C Advanced Brightening Sleeping Facial\",\"Peat Miracle Revital Cream\",\"Superberry Hydrate + Glow Oil\",\"Miracle Water 3-in-1 Micellar Cleanser\",\"Drink of H2O Hydrating Boost Moisturizer Rainforest of the Sea\\u2122\",\"Photo Finish Primer Water\",\"Ultra Repair Hydra-Firm Sleeping Cream\",\"Retinol Youth Renewal Night Cream\",\"The Essence Plumping Skin Softener\",\"Midnight Secret Late Night Recovery Treatment\",\"Squalane + Probiotic Gel Moisturizer\",\"Photo Finish Primerizer\",\"A Perfect World\\u2122 SPF 40 Age-Defense Moisturizer with White Tea\",\"Noni Glow Face Oil\",\"GenOptics Spot Essence Serum\",\"Ferulic + Retinol Anti-Aging Moisturizer\",\"Evercalm\\u2122 Overnight Recovery Balm\",\"Capture Totale Dreamskin Advanced\",\"Ultra Repair\\u00ae Hydrating Serum\",\"Dr. Andrew Weil For Origins\\u2122 Mega-Bright SPF 30 Skin Tone Correcting Oil-Free Moisturizer\",\"100% Squalane Oil\",\"Ultra Repair Face Moisturizer\",\"Abeille Royale Youth Watery Oil\",\"Black Tea Age-Delay Cream\",\"Plantscription\\u2122 SPF 25 Power Anti-Aging Cream\",\"The Moisturizing Soft Lotion\",\"Resveratrol Lift Night Infusion Cream\",\"Essential-C Day Moisture Broad Spectrum SPF 30 PA+++\",\"Coconut Melt\",\"Future Solution LX Total Regenerating Cream\",\"Ibuki Refining Moisturizer Enriched\",\"The Renewal Oil Mini\",\"The Method: Nourish\",\"Gold Camellia Beauty Oil\",\"Ferulic + Retinol Wrinkle Recovery Overnight Serum\",\"Camera Ready CC Cream Broad Spectrum SPF 30 Dark Spot Correcting\",\"CC Cream Daily Correct Broad Spectrum SPF 35+ Sunscreen\",\"GinZing\\u2122 SPF 40 Energy-Boosting Tinted Moisturizer\",\"Premier Cru Cream\",\"Resveratrol Lift Face Lifting Soft Cream\",\"White Lucent MultiBright Night Cream\",\"C+ Collagen Deep Cream\",\"Wild Rose Vitamin C Active Brightening Oil\",\"Waterfall Glacier Water Cream\",\"100 percent Pure Argan Oil Light\",\"Cooling Water\",\"Resilience Lift Night Lifting/Firming Face and Neck Creme\",\"Truth Revealed\\u2122 Brightening Broad Spectrum SPF 15 Moisturizer\",\"Moisture Surge Hydrating Supercharged Concentrate\",\"Miraculous Anti-wrinkle Miracle Worker\",\"Ultra Facial Overnight Hydrating Mask\",\"Cellumination Cream EX\",\"Vine[activ] Overnight Detox Oil\",\"Extra-Firming Neck Anti-Wrinkle Rejuvenating Cream\",\"MOISTURE BOUND Rejuvenating Cr\\u00e8me\",\"BB Cr\\u00e8me au Ginseng\",\"Renewed Hope in A Jar Overnight Recharging & Refining Moisturizer\",\"Argan Cleansing Oil\",\"Ultra Facial Moisturizer\",\"Honey Savior All-in-One Skin Repair Salve with Echinacea GreenEnvy\\u2122 Honey\",\"Ultimate Miracle Worker Multi-Rejuvenating Cream SPF 30\",\"Treatment Toner\",\"Bio-Performance LiftDynamic Cream\",\"Vinosource Intense Moisture Rescue Cream\",\"Wrinkle Warrior\\u2122 2-in-1 Plumping Moisturizer + Serum\",\"Hyaluronic Marine Oil-Free Moisture Cushion\",\"Advanced Night Repair Intensive Recovery Ampoules\",\"Nutrient-Charged Water Gel\",\"Lingerie de Peau BB Cream\",\"MOISTURE BOUND Refreshing Hydra-Gel Oil-Free\",\"Hydra-Essentiel Silky Cream - Normal to Dry Skin\",\"Revitalizing Supreme+ Global Anti-Aging Cell Power Creme SPF 15\",\"Do Not Age with Dr. Brandt Moisturizing Neck Cream\",\"Water Bank Dual Layer Face Oil\",\"Ibuki Beauty Sleeping Mask\",\"R\\u00e9nergie Lift Multi-Action Sunscreen Broad Spectrum SPF 15 For All Skin Types\",\"Squalane + Antioxidant Cleansing Oil\",\"Plantscription\\u2122 Youth-Renewing Power Night Cream\",\"\\u00c9nergie de Vie The Smoothing & Plumping Water-Infused Cream\",\"ExfoliKate Glow Moisturizer\",\"Jelly Pack\",\"RetAsphere\\u2122 2-in-1 Retinol Night Cream\",\"High Potency Classics: Face Finishing & Firming Moisturizer\",\"Argan Infinity Cream Intensive Creamy Oil\",\"Repairative Moisturizer\",\"Water Drop Hydrating Moisturizer\",\"Moon Fruit Superfruit Night Treatment\",\"Visionnaire Advanced Multi-Correcting Cream\",\"Premier Cru Rich Cream\",\"Hydra Zen Anti-Stress Gel Moisturizer\",\"5 in 1 Face Cream SPF 30\",\"Rose Hibiscus Coconut Water Hydrating Face Mist\",\"Retinoic Nutrient Face Oil\",\"Limited Edition Dramatically Different Moisturizing Lotion+\\u2122\",\"Hope In A Jar\",\"Ultra Facial Cream SPF 30\",\"Capture Youth Age-Delay Advanced Cr\\u00e8me\",\"DREAMDUO\\u2122 Overnight Transforming Treatment\",\"POWER Recharging Night Pressed Serum\",\"Ultra Facial Deep Moisture Balm\",\"White Lucent All Day Brightener Broad Spectrum SPF 23 Moisturizer\",\"Featherweight Daily Moisturizing Cream\",\"Goat Milk Moisturizing Cream\",\"Face Hero\"],\"shape\":[190],\"dtype\":\"object\",\"order\":\"little\"}],[\"Brand\",{\"type\":\"ndarray\",\"array\":[\"LA MER\",\"SK-II\",\"DRUNK ELEPHANT\",\"LA MER\",\"IT COSMETICS\",\"DRUNK ELEPHANT\",\"DRUNK ELEPHANT\",\"KIEHL'S SINCE 1851\",\"KIEHL'S SINCE 1851\",\"SUNDAY RILEY\",\"FARMACY\",\"DRUNK ELEPHANT\",\"FIRST AID BEAUTY\",\"CLINIQUE\",\"SK-II\",\"LA MER\",\"FRESH\",\"BELIF\",\"DRUNK ELEPHANT\",\"ORIGINS\",\"CLINIQUE\",\"SK-II\",\"TATCHA\",\"OLEHENRIKSEN\",\"JOSIE MARAN\",\"IT COSMETICS\",\"LANEIGE\",\"LANEIGE\",\"SK-II\",\"TATCHA\",\"SHISEIDO\",\"OLEHENRIKSEN\",\"SUNDAY RILEY\",\"GLOW RECIPE\",\"HERBIVORE\",\"SUNDAY RILEY\",\"CAUDALIE\",\"YOUTH TO THE PEOPLE\",\"LA MER\",\"BIOSSANCE\",\"TARTE\",\"ORIGINS\",\"SON & PARK\",\"TATCHA\",\"OLEHENRIKSEN\",\"AMOREPACIFIC\",\"DR. JART+\",\"CAUDALIE\",\"ERBORIAN\",\"SUNDAY RILEY\",\"IT COSMETICS\",\"TATCHA\",\"GLAMGLOW\",\"DR. JART+\",\"SUNDAY RILEY\",\"LANEIGE\",\"AMOREPACIFIC\",\"GLAMGLOW\",\"FARMACY\",\"PETER THOMAS ROTH\",\"AMOREPACIFIC\",\"IT COSMETICS\",\"FRESH\",\"FIRST AID BEAUTY\",\"IT COSMETICS\",\"SHISEIDO\",\"CLINIQUE\",\"JOSIE MARAN\",\"LANEIGE\",\"LA MER\",\"PHILOSOPHY\",\"PERRICONE MD\",\"LANC\\u00d4ME\",\"ALGENIST\",\"DR. JART+\",\"JOSIE MARAN\",\"OLEHENRIKSEN\",\"FARMACY\",\"ORIGINS\",\"HERBIVORE\",\"OLEHENRIKSEN\",\"BELIF\",\"TATCHA\",\"BIOSSANCE\",\"ORIGINS\",\"KIEHL'S SINCE 1851\",\"KORRES\",\"BELIF\",\"YOUTH TO THE PEOPLE\",\"IT COSMETICS\",\"TARTE\",\"SMASHBOX\",\"FIRST AID BEAUTY\",\"MURAD\",\"TATCHA\",\"GUERLAIN\",\"BIOSSANCE\",\"SMASHBOX\",\"ORIGINS\",\"KORA ORGANICS\",\"SK-II\",\"DR. DENNIS GROSS SKINCARE\",\"REN CLEAN SKINCARE\",\"DIOR\",\"FIRST AID BEAUTY\",\"ORIGINS\",\"BIOSSANCE\",\"FIRST AID BEAUTY\",\"GUERLAIN\",\"FRESH\",\"ORIGINS\",\"LA MER\",\"CAUDALIE\",\"MURAD\",\"KOPARI\",\"SHISEIDO\",\"SHISEIDO\",\"LA MER\",\"LANCER\",\"TATCHA\",\"DR. DENNIS GROSS SKINCARE\",\"SMASHBOX\",\"SUPERGOOP!\",\"ORIGINS\",\"CAUDALIE\",\"CAUDALIE\",\"SHISEIDO\",\"DR. DENNIS GROSS SKINCARE\",\"KORRES\",\"SATURDAY SKIN\",\"JOSIE MARAN\",\"MILK MAKEUP\",\"EST\\u00c9E LAUDER\",\"OLEHENRIKSEN\",\"CLINIQUE\",\"PHILOSOPHY\",\"KIEHL'S SINCE 1851\",\"SK-II\",\"CAUDALIE\",\"CLARINS\",\"AMOREPACIFIC\",\"ERBORIAN\",\"PHILOSOPHY\",\"JOSIE MARAN\",\"KIEHL'S SINCE 1851\",\"FARMACY\",\"PHILOSOPHY\",\"AMOREPACIFIC\",\"SHISEIDO\",\"CAUDALIE\",\"KATE SOMERVILLE\",\"DR. DENNIS GROSS SKINCARE\",\"EST\\u00c9E LAUDER\",\"MURAD\",\"GUERLAIN\",\"AMOREPACIFIC\",\"CLARINS\",\"EST\\u00c9E LAUDER\",\"DR. BRANDT SKINCARE\",\"LANEIGE\",\"SHISEIDO\",\"LANC\\u00d4ME\",\"BIOSSANCE\",\"ORIGINS\",\"LANC\\u00d4ME\",\"KATE SOMERVILLE\",\"J.ONE\",\"KATE SOMERVILLE\",\"PERRICONE MD\",\"JOSIE MARAN\",\"TATA HARPER\",\"DR. JART+\",\"HERBIVORE\",\"LANC\\u00d4ME\",\"CAUDALIE\",\"LANC\\u00d4ME\",\"FIRST AID BEAUTY\",\"HERBIVORE\",\"TATA HARPER\",\"CLINIQUE\",\"PHILOSOPHY\",\"KIEHL'S SINCE 1851\",\"DIOR\",\"GLAMGLOW\",\"ALGENIST\",\"KIEHL'S SINCE 1851\",\"SHISEIDO\",\"SATURDAY SKIN\",\"KATE SOMERVILLE\",\"GO-TO\"],\"shape\":[190],\"dtype\":\"object\",\"order\":\"little\"}],[\"Price\",{\"type\":\"ndarray\",\"array\":{\"type\":\"bytes\",\"data\":\"rwAAALMAAABEAAAArwAAACYAAAA8AAAASAAAAB0AAAAvAAAAaQAAADoAAABaAAAAHgAAACcAAADmAAAAVQAAAFwAAAAmAAAAKAAAACIAAAAcAAAA8AAAADAAAAAmAAAAMAAAACYAAAAZAAAAIwAAAGMAAAAwAAAAPwAAADcAAABQAAAALQAAADAAAABBAAAACgAAADoAAAD1AAAASAAAACUAAAAdAAAAHgAAAHgAAAAsAAAAPAAAADQAAAAnAAAALAAAAEEAAAAmAAAAbgAAADEAAAAwAAAASAAAACYAAADDAAAAOwAAAC0AAAA0AAAAkQAAADAAAAAiAQAAHAAAAEQAAAA8AAAAJwAAACAAAAAkAAAArwAAACcAAACHAAAAegAAAHAAAAAwAAAAKAAAACgAAAAwAAAAIwAAAFgAAAAwAAAAIgAAAFUAAAA6AAAALQAAAC8AAAAwAAAAOgAAACwAAAAmAAAAJwAAACAAAAAmAAAAUgAAAF8AAAAdAAAANAAAACoAAAAtAAAARAAAAOEAAABLAAAAMAAAAHMAAAAkAAAAOAAAADoAAAAYAAAAMgAAAFoAAAA8AAAADgEAAEwAAAA/AAAAHAAAABgBAAAtAAAAggAAAH0AAABfAAAAWAAAACoAAAAiAAAAJwAAAIwAAABMAAAAXAAAAEgAAAA2AAAAJwAAADAAAAAYAAAAXAAAADcAAAAnAAAAPAAAACMAAACgAAAAMgAAAFoAAACWAAAAJwAAADEAAAAgAAAAHQAAACIAAABLAAAAMgAAAHMAAAAnAAAAXwAAADwAAABzAAAAPAAAADYAAABkAAAAMAAAAFIAAABDAAAAJgAAACgAAABjAAAAHgAAADwAAAA3AAAAQQAAACoAAABVAAAARQAAABwAAABuAAAAJAAAADoAAABYAAAAjAAAADAAAAAoAAAAIAAAADAAAAAnAAAAJwAAAB0AAABfAAAAOwAAAF8AAAAdAAAAPgAAADEAAABBAAAAIgAAAA==\"},\"shape\":[190],\"dtype\":\"int32\",\"order\":\"little\"}],[\"Rank\",{\"type\":\"ndarray\",\"array\":{\"type\":\"bytes\",\"data\":\"ZmZmZmZmEEBmZmZmZmYQQJqZmZmZmRFAZmZmZmZmDkBmZmZmZmYQQM3MzMzMzBBAmpmZmZmZEUCamZmZmZkRQJqZmZmZmRFAZmZmZmZmEEBmZmZmZmYSQJqZmZmZmRFAZmZmZmZmEkCamZmZmZkRQDMzMzMzMxFAZmZmZmZmEEBmZmZmZmYQQGZmZmZmZhJAAAAAAAAAEkCamZmZmZkRQDMzMzMzMw9AZmZmZmZmEEAAAAAAAAASQM3MzMzMzBBAAAAAAAAAEkAzMzMzMzMPQJqZmZmZmRFAmpmZmZmZEUBmZmZmZmYQQAAAAAAAABBAmpmZmZmZEUAzMzMzMzMRQM3MzMzMzBBAZmZmZmZmEEBmZmZmZmYSQM3MzMzMzBBAAAAAAAAAEkAzMzMzMzMTQM3MzMzMzBBAmpmZmZmZEUAzMzMzMzMRQJqZmZmZmRFAZmZmZmZmEkAzMzMzMzMRQGZmZmZmZhJAAAAAAAAAEEDNzMzMzMwQQM3MzMzMzBBAZmZmZmZmEEBmZmZmZmYQQDMzMzMzMw9AAAAAAAAAEkAAAAAAAAAQQGZmZmZmZhJAmpmZmZmZEUAzMzMzMzMRQJqZmZmZmRFAMzMzMzMzEUBmZmZmZmYQQJqZmZmZmRFAAAAAAAAAEkAzMzMzMzMRQJqZmZmZmRFAzczMzMzMEEBmZmZmZmYOQDMzMzMzMxFAmpmZmZmZEUAzMzMzMzMPQM3MzMzMzBJAZmZmZmZmCkBmZmZmZmYQQGZmZmZmZg5AMzMzMzMzEUAzMzMzMzMRQDMzMzMzMxFAZmZmZmZmEECamZmZmZkRQDMzMzMzMxFAAAAAAAAAEkAAAAAAAAASQDMzMzMzMxFAzczMzMzMEkDNzMzMzMwQQM3MzMzMzBJAMzMzMzMzEUDNzMzMzMwSQJqZmZmZmRFAzczMzMzMEkAzMzMzMzMTQAAAAAAAABJAmpmZmZmZEUBmZmZmZmYQQDMzMzMzMxFAZmZmZmZmEkCamZmZmZkRQM3MzMzMzBBAmpmZmZmZEUBmZmZmZmYQQAAAAAAAAAxAMzMzMzMzEUDNzMzMzMwQQGZmZmZmZhBAmpmZmZmZE0AzMzMzMzMRQM3MzMzMzBBAZmZmZmZmEEBmZmZmZmYSQM3MzMzMzBBAZmZmZmZmEEDNzMzMzMwQQM3MzMzMzBJAzczMzMzMDEBmZmZmZmYQQAAAAAAAABBAzczMzMzMEEAAAAAAAAAQQJqZmZmZmRFAAAAAAAAAEEAAAAAAAAASQGZmZmZmZhJAmpmZmZmZEUAzMzMzMzMPQJqZmZmZmRFAAAAAAAAAEECamZmZmZkRQDMzMzMzMw9AZmZmZmZmEEDNzMzMzMwQQJqZmZmZmRFAZmZmZmZmEkCamZmZmZkRQGZmZmZmZg5AzczMzMzMEEDNzMzMzMwQQAAAAAAAABBAMzMzMzMzEUCamZmZmZkRQDMzMzMzMxFAAAAAAAAAEkBmZmZmZmYQQGZmZmZmZhBAmpmZmZmZEUCamZmZmZkRQGZmZmZmZhBAMzMzMzMzD0AAAAAAAAASQAAAAAAAABBAmpmZmZmZEUCamZmZmZkNQM3MzMzMzBBAMzMzMzMzD0DNzMzMzMwQQJqZmZmZmRNAZmZmZmZmEkAzMzMzMzMRQM3MzMzMzBBAAAAAAAAAEkAAAAAAAAAQQM3MzMzMzBBAAAAAAAAAFECamZmZmZkRQDMzMzMzMw9AmpmZmZmZEUCamZmZmZkRQM3MzMzMzBBAZmZmZmZmEkAzMzMzMzMRQDMzMzMzMxFAMzMzMzMzEUAAAAAAAAASQDMzMzMzMwtAZmZmZmZmEEAAAAAAAAAQQGZmZmZmZhJAAAAAAAAAEkBmZmZmZmYSQDMzMzMzMw9AZmZmZmZmEEAzMzMzMzMRQAAAAAAAAAAAAAAAAAAAEEDNzMzMzMwQQDMzMzMzMw9AzczMzMzMEECamZmZmZkRQM3MzMzMzBJAZmZmZmZmEkBmZmZmZmYSQGZmZmZmZhBAMzMzMzMzE0A=\"},\"shape\":[190],\"dtype\":\"float64\",\"order\":\"little\"}]]}}},\"view\":{\"type\":\"object\",\"name\":\"CDSView\",\"id\":\"p1093\",\"attributes\":{\"filter\":{\"type\":\"object\",\"name\":\"AllIndices\",\"id\":\"p1094\"}}},\"glyph\":{\"type\":\"object\",\"name\":\"Scatter\",\"id\":\"p1089\",\"attributes\":{\"x\":{\"type\":\"field\",\"field\":\"X\"},\"y\":{\"type\":\"field\",\"field\":\"Y\"},\"size\":{\"type\":\"value\",\"value\":10},\"line_color\":{\"type\":\"value\",\"value\":\"#FF7373\"},\"line_alpha\":{\"type\":\"value\",\"value\":0.8},\"fill_color\":{\"type\":\"value\",\"value\":\"#FF7373\"},\"fill_alpha\":{\"type\":\"value\",\"value\":0.8},\"hatch_color\":{\"type\":\"value\",\"value\":\"#FF7373\"},\"hatch_alpha\":{\"type\":\"value\",\"value\":0.8}}},\"nonselection_glyph\":{\"type\":\"object\",\"name\":\"Scatter\",\"id\":\"p1090\",\"attributes\":{\"x\":{\"type\":\"field\",\"field\":\"X\"},\"y\":{\"type\":\"field\",\"field\":\"Y\"},\"size\":{\"type\":\"value\",\"value\":10},\"line_color\":{\"type\":\"value\",\"value\":\"#FF7373\"},\"line_alpha\":{\"type\":\"value\",\"value\":0.1},\"fill_color\":{\"type\":\"value\",\"value\":\"#FF7373\"},\"fill_alpha\":{\"type\":\"value\",\"value\":0.1},\"hatch_color\":{\"type\":\"value\",\"value\":\"#FF7373\"},\"hatch_alpha\":{\"type\":\"value\",\"value\":0.1}}},\"muted_glyph\":{\"type\":\"object\",\"name\":\"Scatter\",\"id\":\"p1091\",\"attributes\":{\"x\":{\"type\":\"field\",\"field\":\"X\"},\"y\":{\"type\":\"field\",\"field\":\"Y\"},\"size\":{\"type\":\"value\",\"value\":10},\"line_color\":{\"type\":\"value\",\"value\":\"#FF7373\"},\"line_alpha\":{\"type\":\"value\",\"value\":0.2},\"fill_color\":{\"type\":\"value\",\"value\":\"#FF7373\"},\"fill_alpha\":{\"type\":\"value\",\"value\":0.2},\"hatch_color\":{\"type\":\"value\",\"value\":\"#FF7373\"},\"hatch_alpha\":{\"type\":\"value\",\"value\":0.2}}}}}],\"toolbar\":{\"type\":\"object\",\"name\":\"Toolbar\",\"id\":\"p1060\",\"attributes\":{\"tools\":[{\"type\":\"object\",\"name\":\"PanTool\",\"id\":\"p1073\"},{\"type\":\"object\",\"name\":\"WheelZoomTool\",\"id\":\"p1074\",\"attributes\":{\"renderers\":\"auto\"}},{\"type\":\"object\",\"name\":\"BoxZoomTool\",\"id\":\"p1075\",\"attributes\":{\"overlay\":{\"type\":\"object\",\"name\":\"BoxAnnotation\",\"id\":\"p1076\",\"attributes\":{\"syncable\":false,\"line_color\":\"black\",\"line_alpha\":1.0,\"line_width\":2,\"line_dash\":[4,4],\"fill_color\":\"lightgrey\",\"fill_alpha\":0.5,\"level\":\"overlay\",\"visible\":false,\"left\":{\"type\":\"number\",\"value\":\"nan\"},\"right\":{\"type\":\"number\",\"value\":\"nan\"},\"top\":{\"type\":\"number\",\"value\":\"nan\"},\"bottom\":{\"type\":\"number\",\"value\":\"nan\"},\"left_units\":\"canvas\",\"right_units\":\"canvas\",\"top_units\":\"canvas\",\"bottom_units\":\"canvas\",\"handles\":{\"type\":\"object\",\"name\":\"BoxInteractionHandles\",\"id\":\"p1082\",\"attributes\":{\"all\":{\"type\":\"object\",\"name\":\"AreaVisuals\",\"id\":\"p1081\",\"attributes\":{\"fill_color\":\"white\",\"hover_fill_color\":\"lightgray\"}}}}}}}},{\"type\":\"object\",\"name\":\"SaveTool\",\"id\":\"p1083\"},{\"type\":\"object\",\"name\":\"ResetTool\",\"id\":\"p1084\"},{\"type\":\"object\",\"name\":\"HelpTool\",\"id\":\"p1085\"},{\"type\":\"object\",\"name\":\"HoverTool\",\"id\":\"p1097\",\"attributes\":{\"renderers\":\"auto\",\"tooltips\":[[\"Name\",\"@Name\"],[\"Brand\",\"@Brand\"],[\"Price\",\"@Price\"],[\"Rank\",\"@Rank\"]]}},{\"type\":\"object\",\"name\":\"HoverTool\",\"id\":\"p1098\",\"attributes\":{\"renderers\":\"auto\",\"tooltips\":[[\"Name\",\"@Name\"],[\"Brand\",\"@Brand\"],[\"Price\",\"@Price\"],[\"Rank\",\"@Rank\"]]}},{\"type\":\"object\",\"name\":\"HoverTool\",\"id\":\"p1103\",\"attributes\":{\"renderers\":\"auto\",\"tooltips\":[[\"Name\",\"@Name\"],[\"Brand\",\"@Brand\"],[\"Price\",\"@Price\"],[\"Rank\",\"@Rank\"]]}}]}},\"left\":[{\"type\":\"object\",\"name\":\"LinearAxis\",\"id\":\"p1068\",\"attributes\":{\"ticker\":{\"type\":\"object\",\"name\":\"BasicTicker\",\"id\":\"p1069\",\"attributes\":{\"mantissas\":[1,2,5]}},\"formatter\":{\"type\":\"object\",\"name\":\"BasicTickFormatter\",\"id\":\"p1070\"},\"axis_label\":\"Y (t-SNE Dimension 2)\",\"major_label_policy\":{\"type\":\"object\",\"name\":\"AllLabels\",\"id\":\"p1071\"}}}],\"below\":[{\"type\":\"object\",\"name\":\"LinearAxis\",\"id\":\"p1063\",\"attributes\":{\"ticker\":{\"type\":\"object\",\"name\":\"BasicTicker\",\"id\":\"p1064\",\"attributes\":{\"mantissas\":[1,2,5]}},\"formatter\":{\"type\":\"object\",\"name\":\"BasicTickFormatter\",\"id\":\"p1065\"},\"axis_label\":\"X (t-SNE Dimension 1)\",\"major_label_policy\":{\"type\":\"object\",\"name\":\"AllLabels\",\"id\":\"p1066\"}}}],\"center\":[{\"type\":\"object\",\"name\":\"Grid\",\"id\":\"p1067\",\"attributes\":{\"axis\":{\"id\":\"p1063\"}}},{\"type\":\"object\",\"name\":\"Grid\",\"id\":\"p1072\",\"attributes\":{\"dimension\":1,\"axis\":{\"id\":\"p1068\"}}}]}}]}};\n",
       "  const render_items = [{\"docid\":\"cceb5c1f-403e-4690-9f40-3cf9a686eb7e\",\"roots\":{\"p1052\":\"a21e3e80-dda1-4f6c-89e1-aa4769bfc123\"},\"root_ids\":[\"p1052\"]}];\n",
       "  void root.Bokeh.embed.embed_items_notebook(docs_json, render_items);\n",
       "  }\n",
       "  if (root.Bokeh !== undefined) {\n",
       "    embed_document(root);\n",
       "  } else {\n",
       "    let attempts = 0;\n",
       "    const timer = setInterval(function(root) {\n",
       "      if (root.Bokeh !== undefined) {\n",
       "        clearInterval(timer);\n",
       "        embed_document(root);\n",
       "      } else {\n",
       "        attempts++;\n",
       "        if (attempts > 100) {\n",
       "          clearInterval(timer);\n",
       "          console.log(\"Bokeh: ERROR: Unable to run BokehJS code because BokehJS library is missing\");\n",
       "        }\n",
       "      }\n",
       "    }, 10, root)\n",
       "  }\n",
       "})(window);"
      ],
      "application/vnd.bokehjs_exec.v0+json": ""
     },
     "metadata": {
      "application/vnd.bokehjs_exec.v0+json": {
       "id": "p1052"
      }
     },
     "output_type": "display_data"
    }
   ],
   "source": [
    "# Plot the map\n",
    "# ... YOUR CODE FOR TASK 10 ...\n",
    "show(plot)"
   ]
  },
  {
   "cell_type": "markdown",
   "metadata": {
    "dc": {
     "key": "76"
    },
    "deletable": false,
    "editable": false,
    "run_control": {
     "frozen": true
    },
    "tags": [
     "context"
    ]
   },
   "source": [
    "## 11. Comparing two products\n",
    "<p>Since there are so many cosmetics and so many ingredients, the plot doesn't have many super obvious patterns that simpler t-SNE plots can have (<a href=\"https://campus.datacamp.com/courses/unsupervised-learning-in-python/visualization-with-hierarchical-clustering-and-t-sne?ex=10\">example</a>). Our plot requires some digging to find insights, but that's okay!</p>\n",
    "<p>Say we enjoyed a specific product, there's an increased chance we'd enjoy another product that is similar in chemical composition.  Say we enjoyed AmorePacific's <a href=\"https://www.sephora.com/product/color-control-cushion-compact-broad-spectrum-spf-50-P378121\">Color Control Cushion Compact Broad Spectrum SPF 50+</a>. We could find this product on the plot and see if a similar product(s) exist. And it turns out it does! If we look at the points furthest left on the plot, we see  LANEIGE's <a href=\"https://www.sephora.com/product/bb-cushion-hydra-radiance-P420676\">BB Cushion Hydra Radiance SPF 50</a> essentially overlaps with the AmorePacific product. By looking at the ingredients, we can visually confirm the compositions of the products are similar (<em>though it is difficult to do, which is why we did this analysis in the first place!</em>), plus LANEIGE's version is $22 cheaper and actually has higher ratings.</p>\n",
    "<p>It's not perfect, but it's useful. In real life, we can actually use our little ingredient-based recommendation engine help us make educated cosmetic purchase choices.</p>"
   ]
  },
  {
   "cell_type": "code",
   "execution_count": 26,
   "metadata": {
    "dc": {
     "key": "76"
    },
    "tags": [
     "sample_code"
    ]
   },
   "outputs": [
    {
     "data": {
      "text/html": [
       "<div>\n",
       "<style scoped>\n",
       "    .dataframe tbody tr th:only-of-type {\n",
       "        vertical-align: middle;\n",
       "    }\n",
       "\n",
       "    .dataframe tbody tr th {\n",
       "        vertical-align: top;\n",
       "    }\n",
       "\n",
       "    .dataframe thead th {\n",
       "        text-align: right;\n",
       "    }\n",
       "</style>\n",
       "<table border=\"1\" class=\"dataframe\">\n",
       "  <thead>\n",
       "    <tr style=\"text-align: right;\">\n",
       "      <th></th>\n",
       "      <th>Label</th>\n",
       "      <th>Brand</th>\n",
       "      <th>Name</th>\n",
       "      <th>Price</th>\n",
       "      <th>Rank</th>\n",
       "      <th>Ingredients</th>\n",
       "      <th>Combination</th>\n",
       "      <th>Dry</th>\n",
       "      <th>Normal</th>\n",
       "      <th>Oily</th>\n",
       "      <th>Sensitive</th>\n",
       "      <th>X</th>\n",
       "      <th>Y</th>\n",
       "    </tr>\n",
       "  </thead>\n",
       "  <tbody>\n",
       "    <tr>\n",
       "      <th>45</th>\n",
       "      <td>Moisturizer</td>\n",
       "      <td>AMOREPACIFIC</td>\n",
       "      <td>Color Control Cushion Compact Broad Spectrum S...</td>\n",
       "      <td>60</td>\n",
       "      <td>4.0</td>\n",
       "      <td>Phyllostachis Bambusoides Juice, Cyclopentasil...</td>\n",
       "      <td>1</td>\n",
       "      <td>1</td>\n",
       "      <td>1</td>\n",
       "      <td>1</td>\n",
       "      <td>1</td>\n",
       "      <td>-106.877274</td>\n",
       "      <td>-302.838898</td>\n",
       "    </tr>\n",
       "  </tbody>\n",
       "</table>\n",
       "</div>"
      ],
      "text/plain": [
       "          Label         Brand  \\\n",
       "45  Moisturizer  AMOREPACIFIC   \n",
       "\n",
       "                                                 Name  Price  Rank  \\\n",
       "45  Color Control Cushion Compact Broad Spectrum S...     60   4.0   \n",
       "\n",
       "                                          Ingredients  Combination  Dry  \\\n",
       "45  Phyllostachis Bambusoides Juice, Cyclopentasil...            1    1   \n",
       "\n",
       "    Normal  Oily  Sensitive           X           Y  \n",
       "45       1     1          1 -106.877274 -302.838898  "
      ]
     },
     "metadata": {},
     "output_type": "display_data"
    },
    {
     "name": "stdout",
     "output_type": "stream",
     "text": [
      "['Phyllostachis Bambusoides Juice, Cyclopentasiloxane, Cyclohexasiloxane, Peg-10 Dimethicone, Phenyl Trimethicone, Butylene Glycol, Butylene Glycol Dicaprylate/Dicaprate, Alcohol, Arbutin, Lauryl Peg-9 Polydimethylsiloxyethyl Dimethicone, Acrylates/Ethylhexyl Acrylate/Dimethicone Methacrylate Copolymer, Polyhydroxystearic Acid, Sodium Chloride, Polymethyl Methacrylate, Aluminium Hydroxide, Stearic Acid, Disteardimonium Hectorite, Triethoxycaprylylsilane, Ethylhexyl Palmitate, Lecithin, Isostearic Acid, Isopropyl Palmitate, Phenoxyethanol, Polyglyceryl-3 Polyricinoleate, Acrylates/Stearyl Acrylate/Dimethicone Methacrylate Copolymer, Dimethicone, Disodium Edta, Trimethylsiloxysilicate, Ethylhexyglycerin, Dimethicone/Vinyl Dimethicone Crosspolymer, Water, Silica, Camellia Japonica Seed Oil, Camillia Sinensis Leaf Extract, Caprylyl Glycol, 1,2-Hexanediol, Fragrance, Titanium Dioxide, Iron Oxides (Ci 77492, Ci 77491, Ci77499).']\n"
     ]
    },
    {
     "data": {
      "text/html": [
       "<div>\n",
       "<style scoped>\n",
       "    .dataframe tbody tr th:only-of-type {\n",
       "        vertical-align: middle;\n",
       "    }\n",
       "\n",
       "    .dataframe tbody tr th {\n",
       "        vertical-align: top;\n",
       "    }\n",
       "\n",
       "    .dataframe thead th {\n",
       "        text-align: right;\n",
       "    }\n",
       "</style>\n",
       "<table border=\"1\" class=\"dataframe\">\n",
       "  <thead>\n",
       "    <tr style=\"text-align: right;\">\n",
       "      <th></th>\n",
       "      <th>Label</th>\n",
       "      <th>Brand</th>\n",
       "      <th>Name</th>\n",
       "      <th>Price</th>\n",
       "      <th>Rank</th>\n",
       "      <th>Ingredients</th>\n",
       "      <th>Combination</th>\n",
       "      <th>Dry</th>\n",
       "      <th>Normal</th>\n",
       "      <th>Oily</th>\n",
       "      <th>Sensitive</th>\n",
       "      <th>X</th>\n",
       "      <th>Y</th>\n",
       "    </tr>\n",
       "  </thead>\n",
       "  <tbody>\n",
       "    <tr>\n",
       "      <th>55</th>\n",
       "      <td>Moisturizer</td>\n",
       "      <td>LANEIGE</td>\n",
       "      <td>BB Cushion Hydra Radiance SPF 50</td>\n",
       "      <td>38</td>\n",
       "      <td>4.3</td>\n",
       "      <td>Water, Cyclopentasiloxane, Zinc Oxide (CI 7794...</td>\n",
       "      <td>1</td>\n",
       "      <td>1</td>\n",
       "      <td>1</td>\n",
       "      <td>1</td>\n",
       "      <td>1</td>\n",
       "      <td>-76.633743</td>\n",
       "      <td>-300.044464</td>\n",
       "    </tr>\n",
       "  </tbody>\n",
       "</table>\n",
       "</div>"
      ],
      "text/plain": [
       "          Label    Brand                              Name  Price  Rank  \\\n",
       "55  Moisturizer  LANEIGE  BB Cushion Hydra Radiance SPF 50     38   4.3   \n",
       "\n",
       "                                          Ingredients  Combination  Dry  \\\n",
       "55  Water, Cyclopentasiloxane, Zinc Oxide (CI 7794...            1    1   \n",
       "\n",
       "    Normal  Oily  Sensitive          X           Y  \n",
       "55       1     1          1 -76.633743 -300.044464  "
      ]
     },
     "metadata": {},
     "output_type": "display_data"
    },
    {
     "name": "stdout",
     "output_type": "stream",
     "text": [
      "['Water, Cyclopentasiloxane, Zinc Oxide (CI 77947), Ethylhexyl Methoxycinnamate, PEG-10 Dimethicone, Cyclohexasiloxane, Phenyl Trimethicone, Iron Oxides (CI 77492), Butylene Glycol Dicaprylate/Dicaprate, Niacinamide, Lauryl PEG-9 Polydimethylsiloxyethyl Dimethicone, Acrylates/Ethylhexyl Acrylate/Dimethicone Methacrylate Copolymer, Titanium Dioxide (CI 77891 , Iron Oxides (CI 77491), Butylene Glycol, Sodium Chloride, Iron Oxides (CI 77499), Aluminum Hydroxide, HDI/Trimethylol Hexyllactone Crosspolymer, Stearic Acid, Methyl Methacrylate Crosspolymer, Triethoxycaprylylsilane, Phenoxyethanol, Fragrance, Disteardimonium Hectorite, Caprylyl Glycol, Yeast Extract, Acrylates/Stearyl Acrylate/Dimethicone Methacrylate Copolymer, Dimethicone, Trimethylsiloxysilicate, Polysorbate 80, Disodium EDTA, Hydrogenated Lecithin, Dimethicone/Vinyl Dimethicone Crosspolymer, Mica (CI 77019), Silica, 1,2-Hexanediol, Polypropylsilsesquioxane, Chenopodium Quinoa Seed Extract, Magnesium Sulfate, Calcium Chloride, Camellia Sinensis Leaf Extract, Manganese Sulfate, Zinc Sulfate, Ascorbyl Glucoside.']\n"
     ]
    }
   ],
   "source": [
    "# Print the ingredients of two similar cosmetics\n",
    "cosmetic_1 = moisturizers_dry[moisturizers_dry['Name'] == \"Color Control Cushion Compact Broad Spectrum SPF 50+\"]\n",
    "cosmetic_2 = moisturizers_dry[moisturizers_dry['Name'] == \"BB Cushion Hydra Radiance SPF 50\"]\n",
    "\n",
    "# Display each item's data and ingredients\n",
    "display(cosmetic_1)\n",
    "print(cosmetic_1.Ingredients.values)\n",
    "display(cosmetic_2)\n",
    "print(cosmetic_2.Ingredients.values)"
   ]
  }
 ],
 "metadata": {
  "kernelspec": {
   "display_name": "Python 3 (ipykernel)",
   "language": "python",
   "name": "python3"
  },
  "language_info": {
   "codemirror_mode": {
    "name": "ipython",
    "version": 3
   },
   "file_extension": ".py",
   "mimetype": "text/x-python",
   "name": "python",
   "nbconvert_exporter": "python",
   "pygments_lexer": "ipython3",
   "version": "3.12.5"
  }
 },
 "nbformat": 4,
 "nbformat_minor": 4
}
